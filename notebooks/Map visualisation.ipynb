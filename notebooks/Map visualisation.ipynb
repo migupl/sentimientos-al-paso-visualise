{
 "cells": [
  {
   "cell_type": "markdown",
   "id": "6a7dd48a-697c-46b0-a606-3686c462599a",
   "metadata": {},
   "source": [
    "**Map visualisation**\n",
    "\n",
    "Prepare data of sentiments as a [GeoJSON](https://geojson.org/) FeatureCollection for using on a OpenStreetMap with the [vanilla-js-web-component-leaflet-geojson ](https://github.com/migupl/vanilla-js-web-component-leaflet-geojson) to look like [this](https://migupl.github.io/vanilla-js-web-component-leaflet-geojson/example.html).\n",
    "\n",
    "**Setup**"
   ]
  },
  {
   "cell_type": "code",
   "execution_count": null,
   "id": "60e91718-4e3b-4cce-adac-adf475a4fbe9",
   "metadata": {},
   "outputs": [],
   "source": [
    "!pip install pandas"
   ]
  },
  {
   "cell_type": "markdown",
   "id": "4b7669be-5069-4fd5-8100-73c78a3ba951",
   "metadata": {},
   "source": [
    "**Loading the data**\n",
    "\n",
    "The data to be loaded are related to the results of '[sentimientos al paso](https://github.com/migupl/sentimientos-al-paso)' and are the following:\n",
    "- Associated sentiment using [OpenAI](https://github.com/migupl/sentimientos-al-paso#usando-openai)\n",
    "- Associated sentiments using the Python library [pysentimiento](https://github.com/migupl/sentimientos-al-paso#usando-la-librer%C3%ADa-python-pysentimiento2)\n",
    "- Associated sentiments using the Python library [twitter-XLM-roBERTa-base for Emotion Analysis](https://github.com/migupl/sentimientos-al-paso#usando-la-librer%C3%ADa-python-twitter-xlm-roberta-base-for-emotion-analysis4)\n",
    "- Location data"
   ]
  },
  {
   "cell_type": "code",
   "execution_count": 2,
   "id": "19b15e65-2680-43d7-a382-60ef6c6a864b",
   "metadata": {},
   "outputs": [
    {
     "data": {
      "text/plain": [
       "Index(['Unnamed: 0.1', 'Unnamed: 0', 'id', 'latitud', 'longitud', 'autor',\n",
       "       'barrio', 'verso', 'direccion', 'openai_sentiment', 'quarter',\n",
       "       'district', 'city', 'robertuito_sentiment',\n",
       "       'robertuito_sentiment_probas'],\n",
       "      dtype='object')"
      ]
     },
     "execution_count": 2,
     "metadata": {},
     "output_type": "execute_result"
    }
   ],
   "source": [
    "import pandas as pd\n",
    "\n",
    "openai_and_pysentimientos_url = 'https://github.com/migupl/sentimientos-al-paso/raw/main/notebooks/output/versosalpaso_robertuito-sentiment-analysis.csv'\n",
    "openai_and_pysentimientos = pd.read_csv(openai_and_pysentimientos_url, sep=';', encoding='utf-8')\n",
    "openai_and_pysentimientos.columns"
   ]
  },
  {
   "cell_type": "code",
   "execution_count": 3,
   "id": "3f0e2a7f-f8a5-424d-869b-a56315347979",
   "metadata": {},
   "outputs": [],
   "source": [
    "sentiments_with_location = openai_and_pysentimientos[\n",
    "    ['verso', 'autor', 'latitud', 'longitud', 'district', 'openai_sentiment', 'robertuito_sentiment']\n",
    "]"
   ]
  },
  {
   "cell_type": "code",
   "execution_count": 4,
   "id": "7f8e18b8-e45a-428f-9568-5935a16d4e63",
   "metadata": {},
   "outputs": [
    {
     "name": "stdout",
     "output_type": "stream",
     "text": [
      "There are 21 districts\n"
     ]
    }
   ],
   "source": [
    "no_of_districts = len(sentiments_with_location.district.unique())\n",
    "print(f'There are {no_of_districts} districts')"
   ]
  },
  {
   "cell_type": "code",
   "execution_count": 5,
   "id": "227488d3-2482-42ec-bc35-2169899610f5",
   "metadata": {},
   "outputs": [
    {
     "data": {
      "text/plain": [
       "Index(['Unnamed: 0.1', 'Unnamed: 0', 'id', 'latitud', 'longitud', 'autor',\n",
       "       'barrio', 'verso', 'direccion', 'openai_sentiment', 'quarter',\n",
       "       'district', 'city', 'twitter-xml_sentiment', 'twitter-xml_anger',\n",
       "       'twitter-xml_disgust', 'twitter-xml_fear', 'twitter-xml_joy',\n",
       "       'twitter-xml_sadness', 'twitter-xml_surprise', 'twitter-xml_others',\n",
       "       'twitter-xml_as_positive', 'twitter-xml_as_neutral',\n",
       "       'twitter-xml_as_negative'],\n",
       "      dtype='object')"
      ]
     },
     "execution_count": 5,
     "metadata": {},
     "output_type": "execute_result"
    }
   ],
   "source": [
    "twitter_xlm_url = 'https://github.com/migupl/sentimientos-al-paso/raw/main/notebooks/output/versosalpaso_twitter-XLM-roBERTa-base.csv'\n",
    "twitter_xlm = pd.read_csv(twitter_xlm_url, sep=';', encoding='utf-8')\n",
    "twitter_xlm.columns"
   ]
  },
  {
   "cell_type": "markdown",
   "id": "c0f22611-6bf2-4e4b-8dd6-60e8414ca02d",
   "metadata": {},
   "source": [
    "Both of the dataframes have the same origin"
   ]
  },
  {
   "cell_type": "code",
   "execution_count": null,
   "id": "e720bf10-28f9-4a09-9827-999f455343ce",
   "metadata": {},
   "outputs": [],
   "source": [
    "sentiments_with_location['twitter-xml_sentiment'] = twitter_xlm['twitter-xml_sentiment']"
   ]
  },
  {
   "cell_type": "markdown",
   "id": "b3f42df6-3984-4eeb-a0e2-cd2c8292057b",
   "metadata": {},
   "source": [
    "**Define GeoJSON Feature**"
   ]
  },
  {
   "cell_type": "code",
   "execution_count": 7,
   "id": "4a311979-f008-4ce2-ae33-fae424f502e9",
   "metadata": {},
   "outputs": [],
   "source": [
    "import json\n",
    "\n",
    "def get_heart_colors(sentiments: list[str]) -> str:\n",
    "    unique_sentiments = sorted(set(sentiments))\n",
    "    \n",
    "    colors_by_sentiment = {'negative': 'red', 'neutral': 'yellow', 'positive': 'green'}\n",
    "    colors = []\n",
    "    for sentiment in unique_sentiments:\n",
    "        colors.append(colors_by_sentiment[sentiment])\n",
    "\n",
    "    colors_str = '-'.join(colors)\n",
    "    return colors_str\n",
    "\n",
    "def geojson_feature(latitude: float, longitude: float, author: str, verse: str, sentiments: list[str]) -> json:\n",
    "    color_labels = get_heart_colors(sentiments)\n",
    "    return {\n",
    "        'type': \"Feature\",\n",
    "        'geometry': {\n",
    "            'type': \"Point\",\n",
    "            'coordinates': [longitude, latitude]\n",
    "        },\n",
    "        'properties': {\n",
    "            'popupContent': f'<strong>{verse}</strong><br>— <cite>{author}</cite>',\n",
    "            'icon': {\n",
    "                \"iconUrl\": f'https://raw.githubusercontent.com/migupl/svg-vectors-and-icons/main/heart-like/heart-{color_labels}.png',\n",
    "                \"iconSize\": [41, 41],\n",
    "                \"iconAnchor\": [20, 41],\n",
    "                \"popupAnchor\": [1, -34]\n",
    "            },\n",
    "        }\n",
    "    }"
   ]
  },
  {
   "cell_type": "markdown",
   "id": "0e62f0ba-968b-4805-a5f0-041627360442",
   "metadata": {},
   "source": [
    "Prepare the GeoJSON's FeatureCollection by district"
   ]
  },
  {
   "cell_type": "code",
   "execution_count": 8,
   "id": "2956689a-5af2-44a5-96c5-f37f348497bd",
   "metadata": {},
   "outputs": [],
   "source": [
    "sentiments_by_district = sentiments_with_location.groupby('district')"
   ]
  },
  {
   "cell_type": "code",
   "execution_count": 9,
   "id": "c22e6690-ee01-4917-b997-6f15c8add03e",
   "metadata": {},
   "outputs": [
    {
     "data": {
      "text/plain": [
       "dict_keys(['Arganzuela', 'Barajas', 'Carabanchel', 'Centro', 'Chamartín', 'Chamberí', 'Ciudad Lineal', 'Fuencarral-El Pardo', 'Hortaleza', 'Latina', 'Moncloa-Aravaca', 'Moratalaz', 'Puente de Vallecas', 'Retiro', 'Salamanca', 'San Blas - Canillejas', 'Tetuán', 'Usera', 'Vicálvaro', 'Villa de Vallecas', 'Villaverde'])"
      ]
     },
     "execution_count": 9,
     "metadata": {},
     "output_type": "execute_result"
    }
   ],
   "source": [
    "geojson = {}\n",
    "for name, group in sentiments_by_district:\n",
    "    features = []\n",
    "    for index, row in group.iterrows():\n",
    "        sentiments = [row.openai_sentiment, row.robertuito_sentiment, row['twitter-xml_sentiment']]\n",
    "        feature = geojson_feature(row.latitud, row.longitud, row.autor, row.verso, sentiments)\n",
    "        features.append(feature)\n",
    "\n",
    "    geojson[name] = {\n",
    "        'type': \"FeatureCollection\",\n",
    "        'features': features\n",
    "    }\n",
    "    \n",
    "keys = geojson.keys()\n",
    "keys"
   ]
  },
  {
   "cell_type": "code",
   "execution_count": 10,
   "id": "e100432e-7679-460c-ad32-f06099405468",
   "metadata": {},
   "outputs": [],
   "source": [
    "no_of_keys = len(keys)\n",
    "assert 21, no_of_keys"
   ]
  },
  {
   "cell_type": "markdown",
   "id": "2063b6a1-d19c-4e63-8803-20a441157669",
   "metadata": {},
   "source": [
    "**Save JSON** for later use"
   ]
  },
  {
   "cell_type": "code",
   "execution_count": 11,
   "id": "dc90e34e-d47d-49bf-bb9a-2e6db1879ea8",
   "metadata": {},
   "outputs": [],
   "source": [
    "js_content = f\"\"\"\n",
    "const data = {geojson};\n",
    "export {{ data }}\n",
    "\"\"\""
   ]
  },
  {
   "cell_type": "code",
   "execution_count": 12,
   "id": "827ad68c-f3bd-4be2-b5fa-bcf81e3d2c06",
   "metadata": {},
   "outputs": [],
   "source": [
    "js_file_path = './output/sentiments_by_district_geo.js'\n",
    "with open(js_file_path, 'w') as f:\n",
    "    f.write(js_content)"
   ]
  }
 ],
 "metadata": {
  "kernelspec": {
   "display_name": "Python 3 (ipykernel)",
   "language": "python",
   "name": "python3"
  },
  "language_info": {
   "codemirror_mode": {
    "name": "ipython",
    "version": 3
   },
   "file_extension": ".py",
   "mimetype": "text/x-python",
   "name": "python",
   "nbconvert_exporter": "python",
   "pygments_lexer": "ipython3",
   "version": "3.11.4"
  }
 },
 "nbformat": 4,
 "nbformat_minor": 5
}
