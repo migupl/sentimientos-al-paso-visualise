{
 "cells": [
  {
   "cell_type": "markdown",
   "id": "6a7dd48a-697c-46b0-a606-3686c462599a",
   "metadata": {},
   "source": [
    "**Map visualisation**\n",
    "\n",
    "Prepare data of sentiments as a [GeoJSON](https://geojson.org/) FeatureCollection for using on a OpenStreetMap with the [vanilla-js-web-component-leaflet-geojson ](https://github.com/migupl/vanilla-js-web-component-leaflet-geojson) to look like [this](https://migupl.github.io/vanilla-js-web-component-leaflet-geojson/example.html).\n",
    "\n",
    "**Setup**"
   ]
  },
  {
   "cell_type": "code",
   "execution_count": null,
   "id": "60e91718-4e3b-4cce-adac-adf475a4fbe9",
   "metadata": {},
   "outputs": [],
   "source": [
    "!pip install pandas"
   ]
  },
  {
   "cell_type": "markdown",
   "id": "4b7669be-5069-4fd5-8100-73c78a3ba951",
   "metadata": {},
   "source": [
    "**Preparando los datos**"
   ]
  },
  {
   "cell_type": "code",
   "execution_count": 2,
   "id": "19b15e65-2680-43d7-a382-60ef6c6a864b",
   "metadata": {},
   "outputs": [
    {
     "data": {
      "text/plain": [
       "Index(['Unnamed: 0', 'id', 'latitud', 'longitud', 'autor', 'barrio', 'verso',\n",
       "       'direccion', 'sentiment', 'quarter', 'district', 'city'],\n",
       "      dtype='object')"
      ]
     },
     "execution_count": 2,
     "metadata": {},
     "output_type": "execute_result"
    }
   ],
   "source": [
    "import pandas as pd\n",
    "\n",
    "versos_al_paso_geo_url = 'https://github.com/migupl/sentimientos-al-paso/raw/main/notebooks/output/versosalpaso_sentiment_text-davinci-003_geo.csv'\n",
    "versos_al_paso_geo = pd.read_csv(versos_al_paso_geo_url, sep=';', encoding='utf-8')\n",
    "versos_al_paso_geo.columns"
   ]
  },
  {
   "cell_type": "code",
   "execution_count": 3,
   "id": "3f0e2a7f-f8a5-424d-869b-a56315347979",
   "metadata": {},
   "outputs": [
    {
     "data": {
      "text/plain": [
       "<pandas.core.groupby.generic.DataFrameGroupBy object at 0x7fdf6c0aacd0>"
      ]
     },
     "execution_count": 3,
     "metadata": {},
     "output_type": "execute_result"
    }
   ],
   "source": [
    "sentiments_by_district = versos_al_paso_geo.groupby('district')\n",
    "pd.pivot_table(versos_al_paso_geo[['district', 'sentiment']], index='district', columns='sentiment', aggfunc=len, fill_value=0)\n",
    "sentiments_by_district"
   ]
  },
  {
   "cell_type": "code",
   "execution_count": 4,
   "id": "7f8e18b8-e45a-428f-9568-5935a16d4e63",
   "metadata": {},
   "outputs": [
    {
     "name": "stdout",
     "output_type": "stream",
     "text": [
      "There are 21 districts\n"
     ]
    }
   ],
   "source": [
    "no_of_districts = len(versos_al_paso_geo.district.unique())\n",
    "print(f'There are {no_of_districts} districts')"
   ]
  },
  {
   "cell_type": "code",
   "execution_count": 5,
   "id": "b9a26320-23ee-4cd7-aa72-467c0330af1e",
   "metadata": {},
   "outputs": [
    {
     "data": {
      "text/html": [
       "<div>\n",
       "<style scoped>\n",
       "    .dataframe tbody tr th:only-of-type {\n",
       "        vertical-align: middle;\n",
       "    }\n",
       "\n",
       "    .dataframe tbody tr th {\n",
       "        vertical-align: top;\n",
       "    }\n",
       "\n",
       "    .dataframe thead th {\n",
       "        text-align: right;\n",
       "    }\n",
       "</style>\n",
       "<table border=\"1\" class=\"dataframe\">\n",
       "  <thead>\n",
       "    <tr style=\"text-align: right;\">\n",
       "      <th>sentiment</th>\n",
       "      <th>negative</th>\n",
       "      <th>neutral</th>\n",
       "      <th>positive</th>\n",
       "    </tr>\n",
       "    <tr>\n",
       "      <th>district</th>\n",
       "      <th></th>\n",
       "      <th></th>\n",
       "      <th></th>\n",
       "    </tr>\n",
       "  </thead>\n",
       "  <tbody>\n",
       "    <tr>\n",
       "      <th>Arganzuela</th>\n",
       "      <td>1</td>\n",
       "      <td>4</td>\n",
       "      <td>48</td>\n",
       "    </tr>\n",
       "    <tr>\n",
       "      <th>Barajas</th>\n",
       "      <td>0</td>\n",
       "      <td>0</td>\n",
       "      <td>11</td>\n",
       "    </tr>\n",
       "    <tr>\n",
       "      <th>Carabanchel</th>\n",
       "      <td>2</td>\n",
       "      <td>7</td>\n",
       "      <td>72</td>\n",
       "    </tr>\n",
       "    <tr>\n",
       "      <th>Centro</th>\n",
       "      <td>1</td>\n",
       "      <td>2</td>\n",
       "      <td>67</td>\n",
       "    </tr>\n",
       "    <tr>\n",
       "      <th>Chamartín</th>\n",
       "      <td>0</td>\n",
       "      <td>4</td>\n",
       "      <td>71</td>\n",
       "    </tr>\n",
       "    <tr>\n",
       "      <th>Chamberí</th>\n",
       "      <td>1</td>\n",
       "      <td>0</td>\n",
       "      <td>63</td>\n",
       "    </tr>\n",
       "    <tr>\n",
       "      <th>Ciudad Lineal</th>\n",
       "      <td>0</td>\n",
       "      <td>1</td>\n",
       "      <td>77</td>\n",
       "    </tr>\n",
       "    <tr>\n",
       "      <th>Fuencarral-El Pardo</th>\n",
       "      <td>2</td>\n",
       "      <td>4</td>\n",
       "      <td>59</td>\n",
       "    </tr>\n",
       "    <tr>\n",
       "      <th>Hortaleza</th>\n",
       "      <td>0</td>\n",
       "      <td>5</td>\n",
       "      <td>51</td>\n",
       "    </tr>\n",
       "    <tr>\n",
       "      <th>Latina</th>\n",
       "      <td>1</td>\n",
       "      <td>7</td>\n",
       "      <td>67</td>\n",
       "    </tr>\n",
       "    <tr>\n",
       "      <th>Moncloa-Aravaca</th>\n",
       "      <td>3</td>\n",
       "      <td>2</td>\n",
       "      <td>58</td>\n",
       "    </tr>\n",
       "    <tr>\n",
       "      <th>Moratalaz</th>\n",
       "      <td>0</td>\n",
       "      <td>1</td>\n",
       "      <td>30</td>\n",
       "    </tr>\n",
       "    <tr>\n",
       "      <th>Puente de Vallecas</th>\n",
       "      <td>0</td>\n",
       "      <td>5</td>\n",
       "      <td>53</td>\n",
       "    </tr>\n",
       "    <tr>\n",
       "      <th>Retiro</th>\n",
       "      <td>1</td>\n",
       "      <td>1</td>\n",
       "      <td>45</td>\n",
       "    </tr>\n",
       "    <tr>\n",
       "      <th>Salamanca</th>\n",
       "      <td>1</td>\n",
       "      <td>3</td>\n",
       "      <td>59</td>\n",
       "    </tr>\n",
       "    <tr>\n",
       "      <th>San Blas - Canillejas</th>\n",
       "      <td>1</td>\n",
       "      <td>1</td>\n",
       "      <td>51</td>\n",
       "    </tr>\n",
       "    <tr>\n",
       "      <th>Tetuán</th>\n",
       "      <td>2</td>\n",
       "      <td>2</td>\n",
       "      <td>39</td>\n",
       "    </tr>\n",
       "    <tr>\n",
       "      <th>Usera</th>\n",
       "      <td>0</td>\n",
       "      <td>4</td>\n",
       "      <td>42</td>\n",
       "    </tr>\n",
       "    <tr>\n",
       "      <th>Vicálvaro</th>\n",
       "      <td>0</td>\n",
       "      <td>1</td>\n",
       "      <td>22</td>\n",
       "    </tr>\n",
       "    <tr>\n",
       "      <th>Villa de Vallecas</th>\n",
       "      <td>1</td>\n",
       "      <td>0</td>\n",
       "      <td>11</td>\n",
       "    </tr>\n",
       "    <tr>\n",
       "      <th>Villaverde</th>\n",
       "      <td>1</td>\n",
       "      <td>2</td>\n",
       "      <td>30</td>\n",
       "    </tr>\n",
       "  </tbody>\n",
       "</table>\n",
       "</div>"
      ],
      "text/plain": [
       "sentiment              negative  neutral  positive\n",
       "district                                          \n",
       "Arganzuela                    1        4        48\n",
       "Barajas                       0        0        11\n",
       "Carabanchel                   2        7        72\n",
       "Centro                        1        2        67\n",
       "Chamartín                     0        4        71\n",
       "Chamberí                      1        0        63\n",
       "Ciudad Lineal                 0        1        77\n",
       "Fuencarral-El Pardo           2        4        59\n",
       "Hortaleza                     0        5        51\n",
       "Latina                        1        7        67\n",
       "Moncloa-Aravaca               3        2        58\n",
       "Moratalaz                     0        1        30\n",
       "Puente de Vallecas            0        5        53\n",
       "Retiro                        1        1        45\n",
       "Salamanca                     1        3        59\n",
       "San Blas - Canillejas         1        1        51\n",
       "Tetuán                        2        2        39\n",
       "Usera                         0        4        42\n",
       "Vicálvaro                     0        1        22\n",
       "Villa de Vallecas             1        0        11\n",
       "Villaverde                    1        2        30"
      ]
     },
     "execution_count": 5,
     "metadata": {},
     "output_type": "execute_result"
    }
   ],
   "source": [
    "pd.pivot_table(versos_al_paso_geo[['district', 'sentiment']], index='district', columns='sentiment', aggfunc=len, fill_value=0)"
   ]
  },
  {
   "cell_type": "markdown",
   "id": "b3f42df6-3984-4eeb-a0e2-cd2c8292057b",
   "metadata": {},
   "source": [
    "**Define GeoJSON Feature**"
   ]
  },
  {
   "cell_type": "code",
   "execution_count": 6,
   "id": "4a311979-f008-4ce2-ae33-fae424f502e9",
   "metadata": {},
   "outputs": [],
   "source": [
    "import json\n",
    "\n",
    "def geojson_feature(latitude: float, longitude: float, author: str, verse: str, sentiment: str) -> json:\n",
    "    colors_name = {'negative': 'red', 'neutral': 'yellow', 'positive': 'green'} \n",
    "    return {\n",
    "        'type': \"Feature\",\n",
    "        'geometry': {\n",
    "            'type': \"Point\",\n",
    "            'coordinates': [longitude, latitude]\n",
    "        },\n",
    "        'properties': {\n",
    "            'popupContent': f'<strong>{verse}</strong><br>— <cite>{author}</cite>',\n",
    "            'icon': {\n",
    "                \"iconUrl\": f'https://raw.githubusercontent.com/migupl/svg-vectors-and-icons/main/heart-like/heart-{colors_name[sentiment]}.png',\n",
    "                \"iconSize\": [41, 41],\n",
    "                \"iconAnchor\": [20, 41],\n",
    "                \"popupAnchor\": [1, -34]\n",
    "            },\n",
    "        }\n",
    "    }"
   ]
  },
  {
   "cell_type": "markdown",
   "id": "0e62f0ba-968b-4805-a5f0-041627360442",
   "metadata": {},
   "source": [
    "Prepare the GeoJSON's FeatureCollection by district"
   ]
  },
  {
   "cell_type": "code",
   "execution_count": 7,
   "id": "c22e6690-ee01-4917-b997-6f15c8add03e",
   "metadata": {},
   "outputs": [
    {
     "data": {
      "text/plain": [
       "dict_keys(['Arganzuela', 'Barajas', 'Carabanchel', 'Centro', 'Chamartín', 'Chamberí', 'Ciudad Lineal', 'Fuencarral-El Pardo', 'Hortaleza', 'Latina', 'Moncloa-Aravaca', 'Moratalaz', 'Puente de Vallecas', 'Retiro', 'Salamanca', 'San Blas - Canillejas', 'Tetuán', 'Usera', 'Vicálvaro', 'Villa de Vallecas', 'Villaverde'])"
      ]
     },
     "execution_count": 7,
     "metadata": {},
     "output_type": "execute_result"
    }
   ],
   "source": [
    "geojson = {}\n",
    "for name, group in sentiments_by_district:\n",
    "    features = []\n",
    "    for index, row in group.iterrows():\n",
    "        feature = geojson_feature(row.latitud, row.longitud, row.autor, row.verso, row.sentiment)\n",
    "        features.append(feature)\n",
    "\n",
    "    geojson[name] = {\n",
    "        'type': \"FeatureCollection\",\n",
    "        'features': features\n",
    "    }\n",
    "    \n",
    "keys = geojson.keys()\n",
    "keys"
   ]
  },
  {
   "cell_type": "markdown",
   "id": "96d592ad-b023-446e-b8aa-59c78509f5a8",
   "metadata": {},
   "source": [
    "Test that there are 21 districts"
   ]
  },
  {
   "cell_type": "code",
   "execution_count": 8,
   "id": "e100432e-7679-460c-ad32-f06099405468",
   "metadata": {},
   "outputs": [],
   "source": [
    "import unittest\n",
    "\n",
    "tc = unittest.TestCase()\n",
    "no_of_keys = len(keys)\n",
    "tc.assertEqual(21, no_of_keys)"
   ]
  },
  {
   "cell_type": "markdown",
   "id": "2063b6a1-d19c-4e63-8803-20a441157669",
   "metadata": {},
   "source": [
    "Save JSON for later use"
   ]
  },
  {
   "cell_type": "code",
   "execution_count": 12,
   "id": "dc90e34e-d47d-49bf-bb9a-2e6db1879ea8",
   "metadata": {},
   "outputs": [],
   "source": [
    "js_content = f\"\"\"\n",
    "const data = {geojson};\n",
    "export {{ data }}\n",
    "\"\"\""
   ]
  },
  {
   "cell_type": "code",
   "execution_count": 14,
   "id": "827ad68c-f3bd-4be2-b5fa-bcf81e3d2c06",
   "metadata": {},
   "outputs": [],
   "source": [
    "js_file_path = './output/sentiments_by_district_geo.js'\n",
    "with open(js_file_path, 'w') as f:\n",
    "    f.write(js_content)"
   ]
  }
 ],
 "metadata": {
  "kernelspec": {
   "display_name": "Python 3 (ipykernel)",
   "language": "python",
   "name": "python3"
  },
  "language_info": {
   "codemirror_mode": {
    "name": "ipython",
    "version": 3
   },
   "file_extension": ".py",
   "mimetype": "text/x-python",
   "name": "python",
   "nbconvert_exporter": "python",
   "pygments_lexer": "ipython3",
   "version": "3.11.4"
  }
 },
 "nbformat": 4,
 "nbformat_minor": 5
}
